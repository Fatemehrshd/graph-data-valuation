{
 "cells": [
  {
   "cell_type": "code",
   "execution_count": 20,
   "id": "de166a26-f3c4-4581-b8ac-8b423155172f",
   "metadata": {},
   "outputs": [],
   "source": [
    "import subprocess\n",
    "import os\n",
    "\n",
    "# 使用conda pydvl环境中的Python完整路径\n",
    "python_path = \"/home/chih3/miniconda3/envs/pydvl/bin/python\"\n",
    "script_name = 'node_drop_large_cora.py'\n",
    "\n",
    "# 添加 --thres 参数\n",
    "args = [python_path, script_name]\n",
    "\n",
    "log_file = 'cora_drop.log'\n",
    "os.environ['CUDA_VISIBLE_DEVICES'] = '2'\n",
    "with open(log_file, 'w') as f:\n",
    "    subprocess.run(args, stdout=f, stderr=f)\n"
   ]
  },
  {
   "cell_type": "code",
   "execution_count": null,
   "id": "aeda8f0a-d14e-4818-8c9a-c7e274fe3dc4",
   "metadata": {},
   "outputs": [],
   "source": []
  }
 ],
 "metadata": {
  "kernelspec": {
   "display_name": "pydvl",
   "language": "python",
   "name": "pydvl"
  },
  "language_info": {
   "codemirror_mode": {
    "name": "ipython",
    "version": 3
   },
   "file_extension": ".py",
   "mimetype": "text/x-python",
   "name": "python",
   "nbconvert_exporter": "python",
   "pygments_lexer": "ipython3",
   "version": "3.8.18"
  }
 },
 "nbformat": 4,
 "nbformat_minor": 5
}
