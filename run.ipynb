{
 "cells": [
  {
   "cell_type": "code",
   "execution_count": 1,
   "id": "63357956-d0a8-45b9-b926-8eacda5ea4ac",
   "metadata": {},
   "outputs": [],
   "source": [
    "import os\n",
    "import subprocess\n",
    "\n",
    "# 使用conda pydvl环境中的Python完整路径\n",
    "python_path = \"/home/chih3/miniconda3/envs/pydvl/bin/python\"\n",
    "os.environ['CUDA_VISIBLE_DEVICES'] = '1'\n",
    "\n",
    "# 初始seed值\n",
    "start_seed = 0\n",
    "\n",
    "# 为50个不同的seed值执行循环\n",
    "for i in range(20):\n",
    "    seed = start_seed + i\n",
    "    log_file = f'cora_{seed}.log'\n",
    "    \n",
    "    # 如果日志文件存在，则删除它\n",
    "    if os.path.exists(log_file):\n",
    "        os.remove(log_file)\n",
    "\n",
    "    # 执行子进程并将输出写入日志文件\n",
    "    with open(log_file, 'w') as f:\n",
    "        subprocess.run([python_path, 'pc_winter_run.py', '--dataset', 'Cora', '--seed', str(seed)], stdout=f, stderr=f)\n"
   ]
  },
  {
   "cell_type": "code",
   "execution_count": null,
   "id": "de166a26-f3c4-4581-b8ac-8b423155172f",
   "metadata": {},
   "outputs": [],
   "source": []
  }
 ],
 "metadata": {
  "kernelspec": {
   "display_name": "pydvl",
   "language": "python",
   "name": "pydvl"
  },
  "language_info": {
   "codemirror_mode": {
    "name": "ipython",
    "version": 3
   },
   "file_extension": ".py",
   "mimetype": "text/x-python",
   "name": "python",
   "nbconvert_exporter": "python",
   "pygments_lexer": "ipython3",
   "version": "3.8.18"
  }
 },
 "nbformat": 4,
 "nbformat_minor": 5
}
